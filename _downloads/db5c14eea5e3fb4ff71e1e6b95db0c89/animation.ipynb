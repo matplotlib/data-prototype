{
  "cells": [
    {
      "cell_type": "markdown",
      "metadata": {},
      "source": [
        "\n# An animated line\n\nAn animated line using a custom container class,\n:class:`.wrappers.LineWrapper`, and :class:`.wrappers.FormattedText`.\n"
      ]
    },
    {
      "cell_type": "code",
      "execution_count": null,
      "metadata": {
        "collapsed": false
      },
      "outputs": [],
      "source": [
        "import time\nfrom typing import Dict, Tuple, Any, Union\nfrom functools import partial\n\nimport numpy as np\n\nimport matplotlib.pyplot as plt\nfrom matplotlib.animation import FuncAnimation\n\nfrom mpl_data_containers.conversion_edge import Graph\nfrom mpl_data_containers.description import Desc\n\n\nfrom mpl_data_containers.artist import CompatibilityAxes\nfrom mpl_data_containers.line import Line\nfrom mpl_data_containers.text import Text\nfrom mpl_data_containers.conversion_edge import FuncEdge\n\n\nclass SinOfTime:\n    N = 1024\n    # cycles per minutes\n    scale = 10\n\n    def describe(self):\n        return {\n            \"x\": Desc((self.N,)),\n            \"y\": Desc((self.N,)),\n            \"phase\": Desc(()),\n            \"time\": Desc(()),\n        }\n\n    def query(\n        self,\n        graph: Graph,\n        parent_coordinates: str = \"axes\",\n    ) -> Tuple[Dict[str, Any], Union[str, int]]:\n        th = np.linspace(0, 2 * np.pi, self.N)\n\n        cur_time = time.time()\n\n        phase = 2 * np.pi * (self.scale * cur_time % 60) / 60\n        return {\n            \"x\": th,\n            \"y\": np.sin(th + phase),\n            \"phase\": phase,\n            \"time\": cur_time,\n        }, hash(cur_time)\n\n\ndef update(frame, art):\n    return art\n\n\nsot_c = SinOfTime()\nlw = Line(sot_c, linewidth=5, color=\"green\", label=\"sin(time)\")\nfc = Text(\n    sot_c,\n    [\n        FuncEdge.from_func(\n            \"text\",\n            lambda phase: f\"\u03d5={phase:.2f}\",\n            {\"phase\": Desc((), \"auto\")},\n            {\"text\": Desc((), \"display\")},\n        ),\n    ],\n    x=2 * np.pi,\n    y=1,\n    ha=\"right\",\n)\nfig, nax = plt.subplots()\nax = CompatibilityAxes(nax)\nnax.add_artist(ax)\nax.add_artist(lw)\nax.add_artist(fc)\nax.set_xlim(0, 2 * np.pi)\nax.set_ylim(-1.1, 1.1)\nani = FuncAnimation(\n    fig,\n    partial(update, art=(lw, fc)),\n    frames=25,\n    interval=1000 / 60,\n    # TODO: blitting does not work because wrappers do not inherent from Artist\n    # blit=True,\n)\n\nplt.show()"
      ]
    }
  ],
  "metadata": {
    "kernelspec": {
      "display_name": "Python 3",
      "language": "python",
      "name": "python3"
    },
    "language_info": {
      "codemirror_mode": {
        "name": "ipython",
        "version": 3
      },
      "file_extension": ".py",
      "mimetype": "text/x-python",
      "name": "python",
      "nbconvert_exporter": "python",
      "pygments_lexer": "ipython3",
      "version": "3.10.17"
    }
  },
  "nbformat": 4,
  "nbformat_minor": 0
}