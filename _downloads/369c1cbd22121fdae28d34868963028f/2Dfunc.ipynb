{
  "cells": [
    {
      "cell_type": "markdown",
      "metadata": {},
      "source": [
        "\n# A functional 2D image\n\nA 2D image generated using :class:`.containers.FuncContainer` and\n:class:`wrappers.ImageWrapper`.\n"
      ]
    },
    {
      "cell_type": "code",
      "execution_count": null,
      "metadata": {
        "collapsed": false
      },
      "outputs": [],
      "source": [
        "import matplotlib.pyplot as plt\nimport numpy as np\n\nfrom mpl_data_containers.artist import CompatibilityAxes\nfrom mpl_data_containers.image import Image\nfrom mpl_data_containers.containers import FuncContainer\n\nfrom matplotlib.colors import Normalize\n\n\nfc = FuncContainer(\n    {},\n    xyfuncs={\n        \"x\": ((2,), lambda x, y: [x[0], x[-1]]),\n        \"y\": ((2,), lambda x, y: [y[0], y[-1]]),\n        \"image\": (\n            (\"N\", \"M\"),\n            lambda x, y: np.sin(x).reshape(1, -1) * np.cos(y).reshape(-1, 1),\n        ),\n    },\n)\nnorm = Normalize(vmin=-1, vmax=1)\nim = Image(fc, norm=norm)\n\nfig, nax = plt.subplots()\nax = CompatibilityAxes(nax)\nnax.add_artist(ax)\n\nax.add_artist(im)\nax.set_xlim(-5, 5)\nax.set_ylim(-5, 5)\n# fig.colorbar(im, ax=nax)\nplt.show()"
      ]
    }
  ],
  "metadata": {
    "kernelspec": {
      "display_name": "Python 3",
      "language": "python",
      "name": "python3"
    },
    "language_info": {
      "codemirror_mode": {
        "name": "ipython",
        "version": 3
      },
      "file_extension": ".py",
      "mimetype": "text/x-python",
      "name": "python",
      "nbconvert_exporter": "python",
      "pygments_lexer": "ipython3",
      "version": "3.10.17"
    }
  },
  "nbformat": 4,
  "nbformat_minor": 0
}