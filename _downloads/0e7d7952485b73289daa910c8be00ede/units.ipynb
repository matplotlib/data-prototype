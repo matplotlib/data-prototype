{
  "cells": [
    {
      "cell_type": "markdown",
      "metadata": {},
      "source": [
        "\n# Using pint units with PathCollectionWrapper\n\nUsing third party units functionality in conjunction with Matplotlib Axes\n"
      ]
    },
    {
      "cell_type": "code",
      "execution_count": null,
      "metadata": {
        "collapsed": false
      },
      "outputs": [],
      "source": [
        "import numpy as np\nfrom collections import defaultdict\n\nimport matplotlib.pyplot as plt\nimport matplotlib.markers as mmarkers\n\nfrom mpl_data_containers.artist import CompatibilityAxes\nfrom mpl_data_containers.containers import ArrayContainer\nfrom mpl_data_containers.conversion_edge import FuncEdge\nfrom mpl_data_containers.description import Desc\n\nfrom mpl_data_containers.line import Line\n\nimport pint\n\nureg = pint.UnitRegistry()\nureg.setup_matplotlib()\n\nmarker_obj = mmarkers.MarkerStyle(\"o\")\n\n\ncoords = defaultdict(lambda: \"auto\")\ncoords[\"x\"] = coords[\"y\"] = \"units\"\ncont = ArrayContainer(\n    coords,\n    x=np.array([0, 1, 2]) * ureg.m,\n    y=np.array([1, 4, 2]) * ureg.m,\n    paths=np.array([marker_obj.get_path()]),\n    sizes=np.array([12]),\n    edgecolors=np.array([\"k\"]),\n    facecolors=np.array([\"C3\"]),\n)\n\nfig, nax = plt.subplots()\nax = CompatibilityAxes(nax)\nnax.add_artist(ax)\nax.set_xlim(-0.5, 7)\nax.set_ylim(0, 5)\n\nscalar = Desc((), \"units\")\nunit_vector = Desc((\"N\",), \"units\")\n\nxconv = FuncEdge.from_func(\n    \"xconv\",\n    lambda x, xunits: x.to(xunits).magnitude,\n    {\"x\": unit_vector, \"xunits\": scalar},\n    {\"x\": Desc((\"N\",), \"data\")},\n)\nyconv = FuncEdge.from_func(\n    \"yconv\",\n    lambda y, yunits: y.to(yunits).magnitude,\n    {\"y\": unit_vector, \"yunits\": scalar},\n    {\"y\": Desc((\"N\",), \"data\")},\n)\nlw = Line(cont, [xconv, yconv])\n\nax.add_artist(lw)\nnax.xaxis.set_units(ureg.ft)\nnax.yaxis.set_units(ureg.m)\n\nplt.show()"
      ]
    }
  ],
  "metadata": {
    "kernelspec": {
      "display_name": "Python 3",
      "language": "python",
      "name": "python3"
    },
    "language_info": {
      "codemirror_mode": {
        "name": "ipython",
        "version": 3
      },
      "file_extension": ".py",
      "mimetype": "text/x-python",
      "name": "python",
      "nbconvert_exporter": "python",
      "pygments_lexer": "ipython3",
      "version": "3.10.17"
    }
  },
  "nbformat": 4,
  "nbformat_minor": 0
}