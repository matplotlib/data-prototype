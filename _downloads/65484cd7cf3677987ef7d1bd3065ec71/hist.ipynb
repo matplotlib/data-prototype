{
  "cells": [
    {
      "cell_type": "markdown",
      "metadata": {},
      "source": [
        "\n# A re-binning histogram\n\nA :class:`.containers.HistContainer` which is used with :class:`.wrappers.StepWrapper`\nto provide a histogram which recomputes the bins based on a range selected.\n"
      ]
    },
    {
      "cell_type": "code",
      "execution_count": null,
      "metadata": {
        "collapsed": false
      },
      "outputs": [],
      "source": [
        "import matplotlib.pyplot as plt\nimport numpy as np\n\nfrom mpl_data_containers.wrappers import StepWrapper\nfrom mpl_data_containers.containers import HistContainer\n\nhc = HistContainer(\n    np.concatenate([np.random.randn(5000), 0.1 * np.random.randn(500) + 5]), 25\n)\n\n\nfig, (ax1, ax2) = plt.subplots(1, 2, layout=\"constrained\")\nfor ax in (ax1, ax2):\n    ax.add_artist(StepWrapper(hc, lw=0, color=\"green\"))\n    ax.set_ylim(0, 1)\n\nax1.set_xlim(-7, 7)\nax1.axvspan(4.5, 5.5, facecolor=\"none\", zorder=-1, lw=5, edgecolor=\"k\")\nax1.set_title(\"full range\")\n\nax2.set_xlim(4.5, 5.5)\nax2.set_title(\"zoom to small peak\")\n\n\nplt.show()"
      ]
    }
  ],
  "metadata": {
    "kernelspec": {
      "display_name": "Python 3",
      "language": "python",
      "name": "python3"
    },
    "language_info": {
      "codemirror_mode": {
        "name": "ipython",
        "version": 3
      },
      "file_extension": ".py",
      "mimetype": "text/x-python",
      "name": "python",
      "nbconvert_exporter": "python",
      "pygments_lexer": "ipython3",
      "version": "3.10.17"
    }
  },
  "nbformat": 4,
  "nbformat_minor": 0
}