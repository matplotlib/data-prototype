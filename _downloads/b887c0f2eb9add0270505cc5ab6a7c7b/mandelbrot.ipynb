{
  "cells": [
    {
      "cell_type": "markdown",
      "metadata": {},
      "source": [
        "\n# (Infinitly) Zoomable Mandelbrot Set\n\nA mandelbrot set which is computed using a :class:`.containers.FuncContainer`\nand represented using a :class:`wrappers.ImageWrapper`.\n\nThe mandelbrot recomputes as it is zoomed in and/or panned.\n"
      ]
    },
    {
      "cell_type": "code",
      "execution_count": null,
      "metadata": {
        "collapsed": false
      },
      "outputs": [],
      "source": [
        "import matplotlib.pyplot as plt\nimport numpy as np\n\nfrom mpl_data_containers.artist import CompatibilityAxes\nfrom mpl_data_containers.image import Image\nfrom mpl_data_containers.containers import FuncContainer\n\nfrom matplotlib.colors import Normalize\n\nmaxiter = 75\n\n\ndef mandelbrot_set(X, Y, maxiter, *, horizon=3, power=2):\n    C = X + Y[:, None] * 1j\n    N = np.zeros_like(C, dtype=int)\n    Z = np.zeros_like(C)\n    for n in range(maxiter):\n        mask = abs(Z) < horizon\n        N += mask\n        Z[mask] = Z[mask] ** power + C[mask]\n    N[N == maxiter] = -1\n    return Z, N\n\n\nfc = FuncContainer(\n    {},\n    xyfuncs={\n        \"x\": ((2,), lambda x, y: [x[0], x[-1]]),\n        \"y\": ((2,), lambda x, y: [y[0], y[-1]]),\n        \"image\": ((\"N\", \"M\"), lambda x, y: mandelbrot_set(x, y, maxiter)[1]),\n    },\n)\ncmap = plt.get_cmap()\ncmap.set_under(\"w\")\nim = Image(fc, norm=Normalize(0, maxiter), cmap=cmap)\n\nfig, nax = plt.subplots()\nax = CompatibilityAxes(nax)\nnax.add_artist(ax)\nax.add_artist(im)\nax.set_xlim(-1, 1)\nax.set_ylim(-1, 1)\n\nnax.set_aspect(\"equal\")  # No equivalent yet\n\nplt.show()"
      ]
    }
  ],
  "metadata": {
    "kernelspec": {
      "display_name": "Python 3",
      "language": "python",
      "name": "python3"
    },
    "language_info": {
      "codemirror_mode": {
        "name": "ipython",
        "version": 3
      },
      "file_extension": ".py",
      "mimetype": "text/x-python",
      "name": "python",
      "nbconvert_exporter": "python",
      "pygments_lexer": "ipython3",
      "version": "3.10.17"
    }
  },
  "nbformat": 4,
  "nbformat_minor": 0
}