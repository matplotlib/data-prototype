{
  "cells": [
    {
      "cell_type": "markdown",
      "metadata": {},
      "source": [
        "\n# Mapping Line Properties\n\nLeveraging the converter functions to transform users space data to visualization data.\n"
      ]
    },
    {
      "cell_type": "code",
      "execution_count": null,
      "metadata": {
        "collapsed": false
      },
      "outputs": [],
      "source": [
        "import matplotlib.pyplot as plt\nimport numpy as np\n\nfrom matplotlib.colors import Normalize\n\nfrom mpl_data_containers.artist import CompatibilityAxes\nfrom mpl_data_containers.line import Line\nfrom mpl_data_containers.containers import ArrayContainer\nfrom mpl_data_containers.description import Desc\nfrom mpl_data_containers.conversion_edge import FuncEdge\nfrom mpl_data_containers.text import Text\n\n\ncmap = plt.colormaps[\"viridis\"]\ncmap.set_over(\"k\")\ncmap.set_under(\"r\")\nnorm = Normalize(1, 8)\n\nline_edges = [\n    FuncEdge.from_func(\n        \"lw\",\n        lambda lw: min(1 + lw, 5),\n        {\"lw\": Desc((), \"auto\")},\n        {\"linewidth\": Desc((), \"display\")},\n    ),\n    # Probably should separate out norm/cmap step\n    # Slight lie about color being a string here, because of limitations in impl\n    FuncEdge.from_func(\n        \"cmap\",\n        lambda j: cmap(norm(j)),\n        {\"j\": Desc((), \"auto\")},\n        {\"color\": Desc((), \"display\")},\n    ),\n    FuncEdge.from_func(\n        \"ls\",\n        lambda cat: {\"A\": \"-\", \"B\": \":\", \"C\": \"--\"}[cat],\n        {\"cat\": Desc((), \"auto\")},\n        {\"linestyle\": Desc((), \"display\")},\n    ),\n]\n\ntext_edges = [\n    FuncEdge.from_func(\n        \"text\",\n        lambda j, cat: f\"index={j[()]} class={cat!r}\",\n        {\"j\": Desc((), \"auto\"), \"cat\": Desc((), \"auto\")},\n        {\"text\": Desc((), \"display\")},\n    ),\n    FuncEdge.from_func(\n        \"y\",\n        lambda j: j,\n        {\"j\": Desc((), \"auto\")},\n        {\"y\": Desc((), \"data\")},\n    ),\n    FuncEdge.from_func(\n        \"x\",\n        lambda: 2 * np.pi,\n        {},\n        {\"x\": Desc((), \"data\")},\n    ),\n]\n\n\nth = np.linspace(0, 2 * np.pi, 128)\ndelta = np.pi / 9\n\nfig, nax = plt.subplots()\n\nax = CompatibilityAxes(nax)\nnax.add_artist(ax)\n\nfor j in range(10):\n    ac = ArrayContainer(\n        **{\n            \"x\": th,\n            \"y\": np.sin(th + j * delta) + j,\n            \"j\": np.asarray(j),\n            \"lw\": np.asarray(j),\n            \"cat\": {0: \"A\", 1: \"B\", 2: \"C\"}[j % 3],\n        }\n    )\n    ax.add_artist(\n        Line(\n            ac,\n            line_edges,\n        )\n    )\n    ax.add_artist(\n        Text(\n            ac,\n            text_edges,\n            x=2 * np.pi,\n            # ha=\"right\",\n            # bbox={\"facecolor\": \"gray\", \"alpha\": 0.5},\n        )\n    )\nax.set_xlim(0, np.pi * 2)\nax.set_ylim(-1.1, 10.1)\n\nplt.show()"
      ]
    }
  ],
  "metadata": {
    "kernelspec": {
      "display_name": "Python 3",
      "language": "python",
      "name": "python3"
    },
    "language_info": {
      "codemirror_mode": {
        "name": "ipython",
        "version": 3
      },
      "file_extension": ".py",
      "mimetype": "text/x-python",
      "name": "python",
      "nbconvert_exporter": "python",
      "pygments_lexer": "ipython3",
      "version": "3.10.17"
    }
  },
  "nbformat": 4,
  "nbformat_minor": 0
}