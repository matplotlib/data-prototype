{
  "cells": [
    {
      "cell_type": "markdown",
      "metadata": {},
      "source": [
        "\n# Show data frame\n\nWrapping a :class:`pandas.DataFrame` using :class:`.containers.DataFrameContainer`\nand :class:`.artist.Line`.\n"
      ]
    },
    {
      "cell_type": "code",
      "execution_count": null,
      "metadata": {
        "collapsed": false
      },
      "outputs": [],
      "source": [
        "import matplotlib.pyplot as plt\nimport numpy as np\nimport pandas as pd\n\nfrom mpl_data_containers.artist import CompatibilityArtist as CA\nfrom mpl_data_containers.line import Line\nfrom mpl_data_containers.containers import DataFrameContainer\n\nth = np.linspace(0, 4 * np.pi, 256)\n\ndc1 = DataFrameContainer(\n    pd.DataFrame({\"x\": th, \"y\": np.cos(th)}), index_name=None, col_names=lambda n: n\n)\n\ndf = pd.DataFrame(\n    {\n        \"cos\": np.cos(th),\n        \"sin\": np.sin(th),\n    },\n    index=th,\n)\n\n\ndc2 = DataFrameContainer(df, index_name=\"x\", col_names={\"sin\": \"y\"})\ndc3 = DataFrameContainer(df, index_name=\"x\", col_names={\"cos\": \"y\"})\n\n\nfig, (ax1, ax2) = plt.subplots(2, 1)\nax1.add_artist(CA(Line(dc1, linewidth=5, color=\"green\", label=\"sin\")))\nax2.add_artist(CA(Line(dc2, linewidth=5, color=\"green\", label=\"sin\")))\nax2.add_artist(CA(Line(dc3, linewidth=5, color=\"blue\", label=\"cos\")))\nfor ax in (ax1, ax2):\n    ax.set_xlim(0, np.pi * 4)\n    ax.set_ylim(-1.1, 1.1)\n\nplt.show()"
      ]
    }
  ],
  "metadata": {
    "kernelspec": {
      "display_name": "Python 3",
      "language": "python",
      "name": "python3"
    },
    "language_info": {
      "codemirror_mode": {
        "name": "ipython",
        "version": 3
      },
      "file_extension": ".py",
      "mimetype": "text/x-python",
      "name": "python",
      "nbconvert_exporter": "python",
      "pygments_lexer": "ipython3",
      "version": "3.10.17"
    }
  },
  "nbformat": 4,
  "nbformat_minor": 0
}