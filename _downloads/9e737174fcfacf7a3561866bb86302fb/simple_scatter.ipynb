{
  "cells": [
    {
      "cell_type": "markdown",
      "metadata": {},
      "source": [
        "\n# An simple scatter plot using PathCollectionWrapper\n\nA quick scatter plot using :class:`.containers.ArrayContainer` and\n:class:`.wrappers.PathCollectionWrapper`.\n"
      ]
    },
    {
      "cell_type": "code",
      "execution_count": null,
      "metadata": {
        "collapsed": false
      },
      "outputs": [],
      "source": [
        "import numpy as np\n\nimport matplotlib.pyplot as plt\nimport matplotlib.markers as mmarkers\n\nfrom mpl_data_containers.containers import ArrayContainer\n\nfrom mpl_data_containers.wrappers import PathCollectionWrapper\n\nmarker_obj = mmarkers.MarkerStyle(\"o\")\n\ncont = ArrayContainer(\n    x=np.array([0, 1, 2]),\n    y=np.array([1, 4, 2]),\n    paths=np.array([marker_obj.get_path()]),\n    sizes=np.array([12]),\n    edgecolors=np.array([\"k\"]),\n    facecolors=np.array([\"C3\"]),\n)\n\nfig, ax = plt.subplots()\nax.set_xlim(-0.5, 2.5)\nax.set_ylim(0, 5)\nlw = PathCollectionWrapper(cont, offset_transform=ax.transData)\nax.add_artist(lw)\nplt.show()"
      ]
    }
  ],
  "metadata": {
    "kernelspec": {
      "display_name": "Python 3",
      "language": "python",
      "name": "python3"
    },
    "language_info": {
      "codemirror_mode": {
        "name": "ipython",
        "version": 3
      },
      "file_extension": ".py",
      "mimetype": "text/x-python",
      "name": "python",
      "nbconvert_exporter": "python",
      "pygments_lexer": "ipython3",
      "version": "3.10.17"
    }
  },
  "nbformat": 4,
  "nbformat_minor": 0
}