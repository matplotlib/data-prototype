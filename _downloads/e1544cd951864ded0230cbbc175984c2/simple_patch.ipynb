{
  "cells": [
    {
      "cell_type": "markdown",
      "metadata": {},
      "source": [
        "\n# Simple patch artists\n\nDraw two fully specified rectangle patches.\nDemonstrates :class:`.patches.RectangleWrapper` using\n:class:`.containers.ArrayContainer`.\n"
      ]
    },
    {
      "cell_type": "code",
      "execution_count": null,
      "metadata": {
        "collapsed": false
      },
      "outputs": [],
      "source": [
        "import numpy as np\n\nimport matplotlib.pyplot as plt\nimport matplotlib.patches as mpatches\n\nfrom mpl_data_containers.containers import ArrayContainer\nfrom mpl_data_containers.artist import CompatibilityAxes\n\nfrom mpl_data_containers.patches import Rectangle\n\ncont1 = ArrayContainer(\n    lower_left_x=np.array(-3),\n    lower_left_y=np.array(0),\n    upper_right_x=np.array(-1),\n    upper_right_y=np.array(3),\n    edgecolor=np.array([0, 0, 0]),\n    facecolor=\"green\",\n    linewidth=3,\n    linestyle=\"-\",\n    antialiased=np.array([True]),\n    fill=np.array([True]),\n    capstyle=np.array([\"round\"]),\n    joinstyle=np.array([\"miter\"]),\n    alpha=np.array(0.5),\n)\n\ncont2 = ArrayContainer(\n    lower_left_x=0,\n    lower_left_y=np.array(1),\n    upper_right_x=np.array(2),\n    upper_right_y=np.array(5),\n    angle=30,\n    rotation_point_x=np.array(1),\n    rotation_point_y=np.array(3.5),\n    edgecolor=np.array([0.5, 0.2, 0]),\n    facecolor=\"red\",\n    linewidth=6,\n    linestyle=\"-\",\n    antialiased=np.array([True]),\n    fill=np.array([True]),\n    capstyle=np.array([\"round\"]),\n    joinstyle=np.array([\"miter\"]),\n)\n\nfig, nax = plt.subplots()\nax = CompatibilityAxes(nax)\nnax.add_artist(ax)\nnax.set_xlim(-5, 5)\nnax.set_ylim(0, 5)\n\nrect = mpatches.Rectangle((4, 1), 2, 3, linewidth=6, edgecolor=\"black\", angle=30)\nnax.add_artist(rect)\n\nrect1 = Rectangle(cont1, {})\nrect2 = Rectangle(cont2, {})\nax.add_artist(rect1)\nax.add_artist(rect2)\nnax.set_aspect(1)\nplt.show()"
      ]
    }
  ],
  "metadata": {
    "kernelspec": {
      "display_name": "Python 3",
      "language": "python",
      "name": "python3"
    },
    "language_info": {
      "codemirror_mode": {
        "name": "ipython",
        "version": 3
      },
      "file_extension": ".py",
      "mimetype": "text/x-python",
      "name": "python",
      "nbconvert_exporter": "python",
      "pygments_lexer": "ipython3",
      "version": "3.10.17"
    }
  },
  "nbformat": 4,
  "nbformat_minor": 0
}