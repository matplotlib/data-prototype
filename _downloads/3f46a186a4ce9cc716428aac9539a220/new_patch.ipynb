{
  "cells": [
    {
      "cell_type": "markdown",
      "metadata": {},
      "source": [
        "\n# Circle\n\nExample of directly creating a Patch artist that is defined by a\nx, y, and path codes.\n"
      ]
    },
    {
      "cell_type": "code",
      "execution_count": null,
      "metadata": {
        "collapsed": false
      },
      "outputs": [],
      "source": [
        "import matplotlib.pyplot as plt\n\n\nfrom mpl_data_containers.artist import CompatibilityAxes\nfrom mpl_data_containers.patches import Patch\nfrom mpl_data_containers.containers import ArrayContainer\n\nfrom matplotlib.path import Path\n\nc = Path.unit_circle()\n\nsc = ArrayContainer(None, x=c.vertices[:, 0], y=c.vertices[:, 1], codes=c.codes)\nlw2 = Patch(sc, linewidth=3, linestyle=\":\", edgecolor=\"C5\", alpha=1, hatch=None)\n\nfig, nax = plt.subplots()\nnax.set_aspect(\"equal\")\nax = CompatibilityAxes(nax)\nnax.add_artist(ax)\nax.add_artist(lw2, 2)\nax.set_xlim(-1.1, 1.1)\nax.set_ylim(-1.1, 1.1)\n\nplt.show()"
      ]
    }
  ],
  "metadata": {
    "kernelspec": {
      "display_name": "Python 3",
      "language": "python",
      "name": "python3"
    },
    "language_info": {
      "codemirror_mode": {
        "name": "ipython",
        "version": 3
      },
      "file_extension": ".py",
      "mimetype": "text/x-python",
      "name": "python",
      "nbconvert_exporter": "python",
      "pygments_lexer": "ipython3",
      "version": "3.10.17"
    }
  },
  "nbformat": 4,
  "nbformat_minor": 0
}