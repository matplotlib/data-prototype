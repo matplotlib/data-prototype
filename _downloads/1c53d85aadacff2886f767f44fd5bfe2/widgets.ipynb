{
  "cells": [
    {
      "cell_type": "markdown",
      "metadata": {},
      "source": [
        "\n# Slider\n\nIn this example, sliders are used to control the frequency and amplitude of\na sine wave.\n"
      ]
    },
    {
      "cell_type": "code",
      "execution_count": null,
      "metadata": {
        "collapsed": false
      },
      "outputs": [],
      "source": [
        "import inspect\n\nimport numpy as np\nimport matplotlib.pyplot as plt\nfrom matplotlib.widgets import Slider, Button\n\nfrom mpl_data_containers.artist import CompatibilityArtist as CA\nfrom mpl_data_containers.line import Line\nfrom mpl_data_containers.containers import FuncContainer\nfrom mpl_data_containers.description import Desc\nfrom mpl_data_containers.conversion_edge import FuncEdge\n\n\nclass SliderContainer(FuncContainer):\n    def __init__(self, xfuncs, /, **sliders):\n        self._sliders = sliders\n        for slider in sliders.values():\n            slider.on_changed(\n                lambda _, sld=slider: sld.ax.figure.canvas.draw_idle(),\n            )\n\n        def get_needed_keys(f, offset=1):\n            return tuple(inspect.signature(f).parameters)[offset:]\n\n        super().__init__(\n            {\n                k: (\n                    s,\n                    # this line binds the correct sliders to the functions\n                    # and makes lambdas that match the API FuncContainer needs\n                    lambda x, keys=get_needed_keys(f), f=f: f(\n                        x, *(sliders[k].val for k in keys)\n                    ),\n                )\n                for k, (s, f) in xfuncs.items()\n            },\n        )\n\n    def _query_hash(self, graph, parent_coordinates):\n        key = super()._query_hash(graph, parent_coordinates)\n        # inject the slider values into the hashing logic\n        return hash((key, tuple(s.val for s in self._sliders.values())))\n\n\n# Define initial parameters\ninit_amplitude = 5\ninit_frequency = 3\n\n# Create the figure and the line that we will manipulate\nfig, ax = plt.subplots()\nax.set_xlim(0, 1)\nax.set_ylim(-7, 7)\n\nax.set_xlabel(\"Time [s]\")\n\n# adjust the main plot to make room for the sliders\nfig.subplots_adjust(left=0.25, bottom=0.25, right=0.75)\n\n# Make a horizontal slider to control the frequency.\naxfreq = fig.add_axes([0.25, 0.1, 0.65, 0.03])\nfreq_slider = Slider(\n    ax=axfreq,\n    label=\"Frequency [Hz]\",\n    valmin=0.1,\n    valmax=30,\n    valinit=init_frequency,\n)\n\n# Make a vertically oriented slider to control the amplitude\naxamp = fig.add_axes([0.1, 0.25, 0.0225, 0.63])\namp_slider = Slider(\n    ax=axamp,\n    label=\"Amplitude\",\n    valmin=0,\n    valmax=10,\n    valinit=init_amplitude,\n    orientation=\"vertical\",\n)\n\n# Make a vertically oriented slider to control the phase\naxphase = fig.add_axes([0.85, 0.25, 0.0225, 0.63])\nphase_slider = Slider(\n    ax=axphase,\n    label=\"Phase [rad]\",\n    valmin=-2 * np.pi,\n    valmax=2 * np.pi,\n    valinit=0,\n    orientation=\"vertical\",\n)\n\n# pick a cyclic color map\ncmap = plt.get_cmap(\"twilight\")\n\n# set up the data container\nfc = SliderContainer(\n    {\n        # the x data does not need the sliders values\n        \"x\": ((\"N\",), lambda t: t),\n        \"y\": (\n            (\"N\",),\n            # the y data needs all three sliders\n            lambda t, amplitude, frequency, phase: amplitude\n            * np.sin(2 * np.pi * frequency * t + phase),\n        ),\n        # the color data has to take the x (because reasons), but just\n        # needs the phase\n        \"color\": ((1,), lambda _, phase: phase),\n    },\n    # bind the sliders to the data container\n    amplitude=amp_slider,\n    frequency=freq_slider,\n    phase=phase_slider,\n)\nlw = Line(\n    fc,\n    # color map phase (scaled to 2pi and wrapped to [0, 1])\n    [\n        FuncEdge.from_func(\n            \"color\",\n            lambda color: cmap((color / (2 * np.pi)) % 1),\n            {\"color\": Desc((1,))},\n            {\"color\": Desc((), \"display\")},\n        )\n    ],\n    linewidth=5.0,\n    linestyle=\"-\",\n)\nax.add_artist(CA(lw))\n\n\n# Create a `matplotlib.widgets.Button` to reset the sliders to initial values.\nresetax = fig.add_axes([0.8, 0.025, 0.1, 0.04])\nbutton = Button(resetax, \"Reset\", hovercolor=\"0.975\")\nbutton.on_clicked(\n    lambda _: [sld.reset() for sld in (freq_slider, amp_slider, phase_slider)]\n)\n\nplt.show()"
      ]
    }
  ],
  "metadata": {
    "kernelspec": {
      "display_name": "Python 3",
      "language": "python",
      "name": "python3"
    },
    "language_info": {
      "codemirror_mode": {
        "name": "ipython",
        "version": 3
      },
      "file_extension": ".py",
      "mimetype": "text/x-python",
      "name": "python",
      "nbconvert_exporter": "python",
      "pygments_lexer": "ipython3",
      "version": "3.10.17"
    }
  },
  "nbformat": 4,
  "nbformat_minor": 0
}