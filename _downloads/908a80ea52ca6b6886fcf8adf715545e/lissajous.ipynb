{
  "cells": [
    {
      "cell_type": "markdown",
      "metadata": {},
      "source": [
        "\n# An animated lissajous ball\n\nInspired by https://twitter.com/_brohrer_/status/1584681864648065027\n\nAn animated scatter plot using a custom container and :class:`.wrappers.PathCollectionWrapper`\n"
      ]
    },
    {
      "cell_type": "code",
      "execution_count": null,
      "metadata": {
        "collapsed": false
      },
      "outputs": [],
      "source": [
        "import time\nfrom typing import Dict, Tuple, Any, Union\nfrom functools import partial\n\nimport numpy as np\n\nimport matplotlib.pyplot as plt\nimport matplotlib.markers as mmarkers\nfrom matplotlib.animation import FuncAnimation\n\nfrom mpl_data_containers.conversion_edge import Graph\nfrom mpl_data_containers.description import Desc\n\nfrom mpl_data_containers.wrappers import PathCollectionWrapper\n\n\nclass Lissajous:\n    N = 1024\n    # cycles per minutes\n    scale = 2\n\n    def describe(self):\n        return {\n            \"x\": Desc((self.N,)),\n            \"y\": Desc((self.N,)),\n            \"time\": Desc(()),\n            \"sizes\": Desc(()),\n            \"paths\": Desc(()),\n            \"edgecolors\": Desc(()),\n            \"facecolors\": Desc((self.N,)),\n        }\n\n    def query(\n        self,\n        graph: Graph,\n        parent_coordinates: str = \"axes\",\n    ) -> Tuple[Dict[str, Any], Union[str, int]]:\n        def next_time():\n            cur_time = time.time()\n            cur_time = np.array(\n                [cur_time, cur_time - 0.1, cur_time - 0.2, cur_time - 0.3]\n            )\n\n            phase = 15 * np.pi * (self.scale * cur_time % 60) / 150\n            marker_obj = mmarkers.MarkerStyle(\"o\")\n            return {\n                \"x\": np.cos(5 * phase),\n                \"y\": np.sin(3 * phase),\n                \"sizes\": np.array([256]),\n                \"paths\": [\n                    marker_obj.get_path().transformed(marker_obj.get_transform())\n                ],\n                \"edgecolors\": \"k\",\n                \"facecolors\": [\"#4682b4ff\", \"#82b446aa\", \"#46b48288\", \"#8246b433\"],\n                \"time\": cur_time[0],\n            }, hash(cur_time[0])\n\n        return next_time()\n\n\ndef update(frame, art):\n    return art\n\n\nsot_c = Lissajous()\n\nfig, ax = plt.subplots()\nax.set_xlim(-1.1, 1.1)\nax.set_ylim(-1.1, 1.1)\nlw = PathCollectionWrapper(sot_c, offset_transform=ax.transData)\nax.add_artist(lw)\n# ax.set_xticks([])\n# ax.set_yticks([])\nax.set_aspect(1)\nani = FuncAnimation(\n    fig,\n    partial(update, art=(lw,)),\n    frames=60,\n    interval=1000 / 100 * 15,\n    # TODO: blitting does not work because wrappers do not inherent from Artist\n    # blit=True,\n)\nplt.show()"
      ]
    }
  ],
  "metadata": {
    "kernelspec": {
      "display_name": "Python 3",
      "language": "python",
      "name": "python3"
    },
    "language_info": {
      "codemirror_mode": {
        "name": "ipython",
        "version": 3
      },
      "file_extension": ".py",
      "mimetype": "text/x-python",
      "name": "python",
      "nbconvert_exporter": "python",
      "pygments_lexer": "ipython3",
      "version": "3.10.17"
    }
  },
  "nbformat": 4,
  "nbformat_minor": 0
}