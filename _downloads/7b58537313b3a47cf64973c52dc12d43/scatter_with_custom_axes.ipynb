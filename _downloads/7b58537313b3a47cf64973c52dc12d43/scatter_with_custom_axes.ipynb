{
  "cells": [
    {
      "cell_type": "markdown",
      "metadata": {},
      "source": [
        "\n# An simple scatter plot using `ax.scatter`\n\nThis is a quick comparison between the current Matplotlib `scatter` and\nthe version in :file:`mpl_data_containers/axes.py`, which uses data containers\nand a conversion pipeline.\n\nThis is here to show what does work and what does not work with the current\nimplementation of container-based artist drawing.\n"
      ]
    },
    {
      "cell_type": "code",
      "execution_count": null,
      "metadata": {
        "collapsed": false
      },
      "outputs": [],
      "source": [
        "import mpl_data_containers.axes  # side-effect registers projection # noqa\n\nimport matplotlib.pyplot as plt\n\nfig = plt.figure()\nnewstyle = fig.add_subplot(2, 1, 1, projection=\"mpl-data-containers\")\noldstyle = fig.add_subplot(2, 1, 2)\n\nnewstyle.scatter([0, 1, 2], [2, 5, 1])\noldstyle.scatter([0, 1, 2], [2, 5, 1])\nnewstyle.scatter([0, 1, 2], [3, 1, 2])\noldstyle.scatter([0, 1, 2], [3, 1, 2])\n\n\n# Autoscaling not working\nnewstyle.set_xlim(oldstyle.get_xlim())\nnewstyle.set_ylim(oldstyle.get_ylim())\n\nplt.show()"
      ]
    }
  ],
  "metadata": {
    "kernelspec": {
      "display_name": "Python 3",
      "language": "python",
      "name": "python3"
    },
    "language_info": {
      "codemirror_mode": {
        "name": "ipython",
        "version": 3
      },
      "file_extension": ".py",
      "mimetype": "text/x-python",
      "name": "python",
      "nbconvert_exporter": "python",
      "pygments_lexer": "ipython3",
      "version": "3.10.17"
    }
  },
  "nbformat": 4,
  "nbformat_minor": 0
}