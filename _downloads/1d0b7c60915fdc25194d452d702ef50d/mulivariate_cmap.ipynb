{
  "cells": [
    {
      "cell_type": "markdown",
      "metadata": {},
      "source": [
        "\n# Custom bivariate colormap\n\n\nUsing ``nu`` functions to account for two values when computing the color\nof each pixel.\n"
      ]
    },
    {
      "cell_type": "code",
      "execution_count": null,
      "metadata": {
        "collapsed": false
      },
      "outputs": [],
      "source": [
        "import matplotlib.pyplot as plt\nimport numpy as np\n\nfrom mpl_data_containers.image import Image\nfrom mpl_data_containers.artist import CompatibilityAxes\nfrom mpl_data_containers.description import Desc\nfrom mpl_data_containers.containers import FuncContainer\nfrom mpl_data_containers.conversion_edge import FuncEdge\n\nfrom matplotlib.colors import hsv_to_rgb\n\n\ndef func(x, y):\n    return (\n        (np.sin(x).reshape(1, -1) * np.cos(y).reshape(-1, 1)) ** 2,\n        np.arctan2(np.cos(y).reshape(-1, 1), np.sin(x).reshape(1, -1)),\n    )\n\n\ndef image_nu(image):\n    saturation, angle = image\n    hue = (angle + np.pi) / (2 * np.pi)\n    value = np.ones_like(hue)\n    return np.clip(hsv_to_rgb(np.stack([hue, saturation, value], axis=2)), 0, 1)\n\n\nfc = FuncContainer(\n    {},\n    xyfuncs={\n        \"x\": ((2,), lambda x, y: [x[0], x[-1]]),\n        \"y\": ((2,), lambda x, y: [y[0], y[-1]]),\n        \"image\": ((\"N\", \"M\", 2), func),\n    },\n)\n\nimage_edges = FuncEdge.from_func(\n    \"image\",\n    image_nu,\n    {\"image\": Desc((\"M\", \"N\", 2), \"auto\")},\n    {\"image\": Desc((\"M\", \"N\", 3), \"rgb\")},\n)\n\nim = Image(fc, [image_edges])\n\nfig, nax = plt.subplots()\nax = CompatibilityAxes(nax)\nnax.add_artist(ax)\nax.add_artist(im)\nax.set_xlim(-5, 5)\nax.set_ylim(-5, 5)\nplt.show()"
      ]
    }
  ],
  "metadata": {
    "kernelspec": {
      "display_name": "Python 3",
      "language": "python",
      "name": "python3"
    },
    "language_info": {
      "codemirror_mode": {
        "name": "ipython",
        "version": 3
      },
      "file_extension": ".py",
      "mimetype": "text/x-python",
      "name": "python",
      "nbconvert_exporter": "python",
      "pygments_lexer": "ipython3",
      "version": "3.10.17"
    }
  },
  "nbformat": 4,
  "nbformat_minor": 0
}