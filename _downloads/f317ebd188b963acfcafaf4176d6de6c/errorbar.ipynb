{
  "cells": [
    {
      "cell_type": "markdown",
      "metadata": {},
      "source": [
        "\n# Errorbar graph\n\nUsing :class:`.containers.ArrayContainer` and :class:`.wrappers.ErrorbarWrapper`\nto plot a graph with error bars.\n"
      ]
    },
    {
      "cell_type": "code",
      "execution_count": null,
      "metadata": {
        "collapsed": false
      },
      "outputs": [],
      "source": [
        "import matplotlib.pyplot as plt\nimport numpy as np\n\n\nfrom mpl_data_containers.wrappers import ErrorbarWrapper\nfrom mpl_data_containers.containers import ArrayContainer\n\nx = np.arange(10)\ny = x**2\nyupper = y + np.sqrt(y)\nylower = y - np.sqrt(y)\nxupper = x + 0.5\nxlower = x - 0.5\n\nac = ArrayContainer(\n    x=x, y=y, yupper=yupper, ylower=ylower, xlower=xlower, xupper=xupper\n)\n\n\nfig, ax = plt.subplots()\n\new = ErrorbarWrapper(ac)\nax.add_artist(ew)\nax.set_xlim(0, 10)\nax.set_ylim(0, 100)\nplt.show()"
      ]
    }
  ],
  "metadata": {
    "kernelspec": {
      "display_name": "Python 3",
      "language": "python",
      "name": "python3"
    },
    "language_info": {
      "codemirror_mode": {
        "name": "ipython",
        "version": 3
      },
      "file_extension": ".py",
      "mimetype": "text/x-python",
      "name": "python",
      "nbconvert_exporter": "python",
      "pygments_lexer": "ipython3",
      "version": "3.10.17"
    }
  },
  "nbformat": 4,
  "nbformat_minor": 0
}