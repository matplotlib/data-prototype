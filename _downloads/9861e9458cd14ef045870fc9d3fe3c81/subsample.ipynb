{
  "cells": [
    {
      "cell_type": "markdown",
      "metadata": {},
      "source": [
        "\n# Dynamic Downsampling\n\nGenerates a large image with three levels of detail.\n\nWhen zoomed out, appears as a difference of 2D Gaussians.\nAt medium zoom, a diagonal sinusoidal pattern is apparent.\nWhen zoomed in close, noise is visible.\n\nThe image is dynamically subsampled using a local mean which hides the finer details.\n"
      ]
    },
    {
      "cell_type": "code",
      "execution_count": null,
      "metadata": {
        "collapsed": false
      },
      "outputs": [],
      "source": [
        "from typing import Tuple, Dict, Any, Union\n\nimport matplotlib as mpl\nimport matplotlib.pyplot as plt\nfrom matplotlib.colors import Normalize\n\nimport numpy as np\n\nfrom mpl_data_containers.description import Desc, desc_like\nfrom mpl_data_containers.artist import CompatibilityArtist as CA\nfrom mpl_data_containers.image import Image\nfrom mpl_data_containers.containers import ArrayContainer\n\nfrom skimage.transform import downscale_local_mean\n\n\nx = y = np.linspace(-3, 3, 3000)\nX, Y = np.meshgrid(x, y)\nZ1 = np.exp(-(X**2) - Y**2) + 0.08 * np.sin(50 * (X + Y))\nZ2 = np.exp(-((X - 1) ** 2) - (Y - 1) ** 2)\nZ = (Z1 - Z2) * 2\n\nZ += np.random.random(Z.shape) - 0.5\n\n\nclass Subsample:\n    def describe(self):\n        return {\n            \"x\": Desc((2,)),\n            \"y\": Desc((2,)),\n            \"image\": Desc((\"M\", \"N\")),\n        }\n\n    def query(\n        self,\n        graph,\n        parent_coordinates=\"axes\",\n    ) -> Tuple[Dict[str, Any], Union[str, int]]:\n        desc = Desc((\"N\",), coordinates=\"data\")\n        xy = {\"x\": desc, \"y\": desc}\n        data_lim = graph.evaluator(xy, desc_like(xy, coordinates=\"axes\")).inverse\n\n        pts = data_lim.evaluate({\"x\": (0, 1), \"y\": (0, 1)})\n        x1, x2 = pts[\"x\"]\n        y1, y2 = pts[\"y\"]\n\n        xi1 = np.argmin(np.abs(x - x1))\n        yi1 = np.argmin(np.abs(y - y1))\n        xi2 = np.argmin(np.abs(x - x2))\n        yi2 = np.argmin(np.abs(y - y2))\n\n        xscale = int(np.ceil((xi2 - xi1) / 50))\n        yscale = int(np.ceil((yi2 - yi1) / 50))\n\n        return {\n            \"x\": [x1, x2],\n            \"y\": [y1, y2],\n            \"image\": downscale_local_mean(Z[xi1:xi2, yi1:yi2], (xscale, yscale)),\n        }, hash((x1, x2, y1, y2))\n\n\nnon_sub = ArrayContainer(**{\"image\": Z, \"x\": np.array([0, 1]), \"y\": np.array([0, 10])})\n\nsub = Subsample()\ncmap = mpl.colormaps[\"coolwarm\"]\nnorm = Normalize(-2.2, 2.2)\nim = Image(sub, cmap=cmap, norm=norm)\n\nfig, ax = plt.subplots()\nax.add_artist(CA(im))\nax.set_xlim(-3, 3)\nax.set_ylim(-3, 3)\nplt.show()"
      ]
    }
  ],
  "metadata": {
    "kernelspec": {
      "display_name": "Python 3",
      "language": "python",
      "name": "python3"
    },
    "language_info": {
      "codemirror_mode": {
        "name": "ipython",
        "version": 3
      },
      "file_extension": ".py",
      "mimetype": "text/x-python",
      "name": "python",
      "nbconvert_exporter": "python",
      "pygments_lexer": "ipython3",
      "version": "3.10.17"
    }
  },
  "nbformat": 4,
  "nbformat_minor": 0
}