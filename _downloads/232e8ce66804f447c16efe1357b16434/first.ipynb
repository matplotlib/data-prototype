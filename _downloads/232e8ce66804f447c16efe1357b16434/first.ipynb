{
  "cells": [
    {
      "cell_type": "markdown",
      "metadata": {},
      "source": [
        "\n# A functional line\n\nDemonstrating the differences between :class:`.containers.FuncContainer` and\n:class:`.containers.SeriesContainer` using :class:`.artist.Line`.\n"
      ]
    },
    {
      "cell_type": "code",
      "execution_count": null,
      "metadata": {
        "collapsed": false
      },
      "outputs": [],
      "source": [
        "import matplotlib.pyplot as plt\nimport numpy as np\nimport pandas as pd\n\nfrom mpl_data_containers.artist import CompatibilityAxes\nfrom mpl_data_containers.line import Line\nfrom mpl_data_containers.containers import FuncContainer, SeriesContainer\n\n\nfc = FuncContainer({\"x\": ((\"N\",), lambda x: x), \"y\": ((\"N\",), lambda x: np.sin(1 / x))})\nlw = Line(fc, linewidth=5, color=\"green\", label=\"sin(1/x) (function)\")\n\nth = np.linspace(0, 2 * np.pi, 16)\nsc = SeriesContainer(pd.Series(index=th, data=np.cos(th)), index_name=\"x\", col_name=\"y\")\nlw2 = Line(\n    sc,\n    linewidth=3,\n    linestyle=\":\",\n    color=\"C0\",\n    label=\"cos (pandas)\",\n    marker=\".\",\n    markersize=12,\n)\n\nfig, nax = plt.subplots()\nax = CompatibilityAxes(nax)\nnax.add_artist(ax)\nax.add_artist(lw, 3)\nax.add_artist(lw2, 2)\nax.set_xlim(0, np.pi * 4)\nax.set_ylim(-1.1, 1.1)\n\nplt.show()"
      ]
    }
  ],
  "metadata": {
    "kernelspec": {
      "display_name": "Python 3",
      "language": "python",
      "name": "python3"
    },
    "language_info": {
      "codemirror_mode": {
        "name": "ipython",
        "version": 3
      },
      "file_extension": ".py",
      "mimetype": "text/x-python",
      "name": "python",
      "nbconvert_exporter": "python",
      "pygments_lexer": "ipython3",
      "version": "3.10.17"
    }
  },
  "nbformat": 4,
  "nbformat_minor": 0
}